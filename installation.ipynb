{
 "cells": [
  {
   "cell_type": "code",
   "execution_count": 1,
   "id": "4b56ae36",
   "metadata": {},
   "outputs": [],
   "source": [
    "import qiskit"
   ]
  },
  {
   "cell_type": "code",
   "execution_count": 2,
   "id": "e2615cff",
   "metadata": {},
   "outputs": [
    {
     "data": {
      "text/plain": [
       "'2.1.0'"
      ]
     },
     "execution_count": 2,
     "metadata": {},
     "output_type": "execute_result"
    }
   ],
   "source": [
    "qiskit.__version__"
   ]
  },
  {
   "cell_type": "code",
   "execution_count": 6,
   "id": "0180e354",
   "metadata": {},
   "outputs": [
    {
     "name": "stderr",
     "output_type": "stream",
     "text": [
      "/var/folders/mg/k1kq0h6j0kj96lsn5gnr3gk00000gn/T/ipykernel_34359/2315657211.py:3: DeprecationWarning: The \"ibm_quantum\" channel option is deprecated and will be sunset on 1 July. After this date, \"ibm_cloud\", \"ibm_quantum_platform\", and \"local\" will be the only valid channels. Open Plan users should migrate now.  All other users should review the migration guide (https://quantum.cloud.ibm.com/docs/migration-guides/classic-iqp-to-cloud-iqp)to learn when to migrate.\n",
      "  service = QiskitRuntimeService(channel=\"ibm_quantum\",\n"
     ]
    }
   ],
   "source": [
    "from qiskit_ibm_runtime import QiskitRuntimeService\n",
    "\n",
    "service = QiskitRuntimeService(channel=\"ibm_quantum\", \n",
    "                               token=\"c47e8b2dea19172c1a5cc73e07f9d1b221e89660b834fbd28c57a2e82e7ea4dfa69b62568f6f1f251fca252bc21254e1475a574c3172346af575fc1fb69411b9\")"
   ]
  },
  {
   "cell_type": "code",
   "execution_count": 7,
   "id": "c26bc623",
   "metadata": {},
   "outputs": [],
   "source": [
    "QiskitRuntimeService.save_account(channel=\"ibm_quantum\", \n",
    "                               token=\"c47e8b2dea19172c1a5cc73e07f9d1b221e89660b834fbd28c57a2e82e7ea4dfa69b62568f6f1f251fca252bc21254e1475a574c3172346af575fc1fb69411b9\")"
   ]
  },
  {
   "cell_type": "code",
   "execution_count": 8,
   "id": "e625d142",
   "metadata": {},
   "outputs": [],
   "source": [
    "backend = service.backend(name = \"ibm_brisbane\")"
   ]
  },
  {
   "cell_type": "code",
   "execution_count": 10,
   "id": "fc9370e3",
   "metadata": {},
   "outputs": [
    {
     "data": {
      "text/plain": [
       "127"
      ]
     },
     "execution_count": 10,
     "metadata": {},
     "output_type": "execute_result"
    }
   ],
   "source": [
    "backend.num_qubits"
   ]
  }
 ],
 "metadata": {
  "kernelspec": {
   "display_name": "cwq",
   "language": "python",
   "name": "python3"
  },
  "language_info": {
   "codemirror_mode": {
    "name": "ipython",
    "version": 3
   },
   "file_extension": ".py",
   "mimetype": "text/x-python",
   "name": "python",
   "nbconvert_exporter": "python",
   "pygments_lexer": "ipython3",
   "version": "3.13.5"
  }
 },
 "nbformat": 4,
 "nbformat_minor": 5
}
